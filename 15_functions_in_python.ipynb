{
  "nbformat": 4,
  "nbformat_minor": 0,
  "metadata": {
    "colab": {
      "name": "15 functions in python.ipynb",
      "provenance": [],
      "collapsed_sections": []
    },
    "kernelspec": {
      "display_name": "Python 3",
      "language": "python",
      "name": "python3"
    },
    "language_info": {
      "codemirror_mode": {
        "name": "ipython",
        "version": 3
      },
      "file_extension": ".py",
      "mimetype": "text/x-python",
      "name": "python",
      "nbconvert_exporter": "python",
      "pygments_lexer": "ipython3",
      "version": "3.7.4"
    }
  },
  "cells": [
    {
      "cell_type": "code",
      "metadata": {
        "colab": {
          "base_uri": "https://localhost:8080/"
        },
        "id": "Z-hqP5kW7n1E",
        "outputId": "852cf0f8-5e11-4da3-c309-0425972d8a34"
      },
      "source": [
        "x1 = [9, 2, 5, 0, 0, 7, 5, 0, 0, 0, 9, 2, 5, 0, 0]\n",
        "x2 = [9, 2, 2, 9, 0, 9, 2, 5, 0, 0, 9, 2, 5, 0, 0]\n",
        "\n",
        "### VECTORIZED DOT PRODUCT OF VECTORS ###\n",
        "tic = time.process_time()\n",
        "dot = np.dot(x1,x2)\n",
        "toc = time.process_time()\n",
        "print (\"dot = \" + str(dot) + \"\\n ----- Computation time = \" + str(1000*(toc - tic)) + \"ms\")\n",
        "\n",
        "### VECTORIZED OUTER PRODUCT ###\n",
        "tic = time.process_time()\n",
        "outer = np.outer(x1,x2)\n",
        "toc = time.process_time()\n",
        "print (\"outer = \" + str(outer) + \"\\n ----- Computation time = \" + str(1000*(toc - tic)) + \"ms\")\n",
        "\n",
        "### VECTORIZED ELEMENTWISE MULTIPLICATION ###\n",
        "tic = time.process_time()\n",
        "mul = np.multiply(x1,x2)\n",
        "toc = time.process_time()\n",
        "print (\"elementwise multiplication = \" + str(mul) + \"\\n ----- Computation time = \" + str(1000*(toc - tic)) + \"ms\")\n",
        "\n"
      ],
      "execution_count": null,
      "outputs": [
        {
          "output_type": "stream",
          "text": [
            "dot = 278\n",
            " ----- Computation time = 0.13357700000016237ms\n",
            "outer = [[81 18 18 81  0 81 18 45  0  0 81 18 45  0  0]\n",
            " [18  4  4 18  0 18  4 10  0  0 18  4 10  0  0]\n",
            " [45 10 10 45  0 45 10 25  0  0 45 10 25  0  0]\n",
            " [ 0  0  0  0  0  0  0  0  0  0  0  0  0  0  0]\n",
            " [ 0  0  0  0  0  0  0  0  0  0  0  0  0  0  0]\n",
            " [63 14 14 63  0 63 14 35  0  0 63 14 35  0  0]\n",
            " [45 10 10 45  0 45 10 25  0  0 45 10 25  0  0]\n",
            " [ 0  0  0  0  0  0  0  0  0  0  0  0  0  0  0]\n",
            " [ 0  0  0  0  0  0  0  0  0  0  0  0  0  0  0]\n",
            " [ 0  0  0  0  0  0  0  0  0  0  0  0  0  0  0]\n",
            " [81 18 18 81  0 81 18 45  0  0 81 18 45  0  0]\n",
            " [18  4  4 18  0 18  4 10  0  0 18  4 10  0  0]\n",
            " [45 10 10 45  0 45 10 25  0  0 45 10 25  0  0]\n",
            " [ 0  0  0  0  0  0  0  0  0  0  0  0  0  0  0]\n",
            " [ 0  0  0  0  0  0  0  0  0  0  0  0  0  0  0]]\n",
            " ----- Computation time = 0.22421699999997102ms\n",
            "elementwise multiplication = [81  4 10  0  0 63 10  0  0  0 81  4 25  0  0]\n",
            " ----- Computation time = 0.08580300000016194ms\n"
          ],
          "name": "stdout"
        }
      ]
    },
    {
      "cell_type": "markdown",
      "metadata": {
        "id": "dUw5IQXBWyKe"
      },
      "source": [
        "**Broadcasting**\n",
        " It is also a great feature when working with numpy arrays and neural netrworks. It allows  array arithmetic between arrays with a different shape or size. Let's see this example."
      ]
    },
    {
      "cell_type": "code",
      "metadata": {
        "colab": {
          "base_uri": "https://localhost:8080/"
        },
        "id": "gdSjH8jBXQQQ",
        "outputId": "6b7dfde3-3097-4997-cd8c-7a602ee3ccd7"
      },
      "source": [
        "# scalar and one-dimensional\n",
        "import numpy as np\n",
        "a = np.array([1, 2, 3])\n",
        "print(a)\n",
        "b = 2\n",
        "print(b)\n",
        "c = a + b\n",
        "print(c)"
      ],
      "execution_count": null,
      "outputs": [
        {
          "output_type": "stream",
          "text": [
            "[1 2 3]\n",
            "2\n",
            "[3 4 5]\n"
          ],
          "name": "stdout"
        }
      ]
    },
    {
      "cell_type": "code",
      "metadata": {
        "colab": {
          "base_uri": "https://localhost:8080/"
        },
        "id": "b1lriP-eSw9-",
        "outputId": "835b279a-da57-42f3-814b-eed0775d5e97"
      },
      "source": [
        "# # scalar and two-dimensional\n",
        "from numpy import array\n",
        "A = array([[4, 5, 7], [1, 2, 3]])\n",
        "print(A)\n",
        "b = 2\n",
        "print(b)\n",
        "C = A + b\n",
        "print(C)"
      ],
      "execution_count": null,
      "outputs": [
        {
          "output_type": "stream",
          "text": [
            "[[4 5 7]\n",
            " [1 2 3]]\n",
            "2\n",
            "[[6 7 9]\n",
            " [3 4 5]]\n"
          ],
          "name": "stdout"
        }
      ]
    },
    {
      "cell_type": "code",
      "metadata": {
        "colab": {
          "base_uri": "https://localhost:8080/",
          "height": 279
        },
        "id": "abMQgFsaQxKA",
        "outputId": "04a2e5a7-5a8b-45f0-ddb5-059ca15e540f"
      },
      "source": [
        "#sigmoid function\n",
        "\n",
        "\n",
        "  \n",
        "x = np.linspace(-100, 100, 200) \n",
        "z = 1/(1 + np.exp(-x)) \n",
        "  \n",
        "plt.plot(x, z) \n",
        "plt.xlabel(\"x\") \n",
        "plt.ylabel(\"Sigmoid(X)\") \n",
        "# print(\"X\",x,\"\\n\")\n",
        "# print(\"Z\",z)\n",
        "plt.show() "
      ],
      "execution_count": null,
      "outputs": [
        {
          "output_type": "display_data",
          "data": {
            "image/png": "[encoded data removed]",
            "text/plain": [
              "<Figure size 432x288 with 1 Axes>"
            ]
          },
          "metadata": {
            "tags": [],
            "needs_background": "light"
          }
        }
      ]
    },
    {
      "cell_type": "code",
      "metadata": {
        "colab": {
          "base_uri": "https://localhost:8080/"
        },
        "id": "XGj5BrVNRLFJ",
        "outputId": "ef6bd0f3-e4a9-42ae-c1ed-45a39edf0fd5"
      },
      "source": [
        "#tanhu function \n",
        "\n",
        "my_array = [0, 5,10, np.pi] \n",
        "print (\"Input array : \\n\", my_array) \n",
        "  \n",
        "tanh_Values = np.tanh(my_array) \n",
        "print (\"\\nTangent Hyperbolic values : \\n\", tanh_Values) "
      ],
      "execution_count": null,
      "outputs": [
        {
          "output_type": "stream",
          "text": [
            "Input array : \n",
            " [0, 5, 10, 3.141592653589793]\n",
            "\n",
            "Tangent Hyperbolic values : \n",
            " [0.         0.9999092  1.         0.99627208]\n"
          ],
          "name": "stdout"
        }
      ]
    },
    {
      "cell_type": "code",
      "metadata": {
        "colab": {
          "base_uri": "https://localhost:8080/"
        },
        "id": "ahFhkht7c4_S",
        "outputId": "36335b20-e715-44ba-cf99-5cd0109a39fd"
      },
      "source": [
        "#cos function\n",
        "\n",
        "my_array = [0, 5,10, np.pi] \n",
        "print (\"Input array : \\n\", my_array) \n",
        "\n",
        "cos_Values = np.cos(my_array) \n",
        "print (\"\\nCos values : \\n\", cos_Values) "
      ],
      "execution_count": null,
      "outputs": [
        {
          "output_type": "stream",
          "text": [
            "Input array : \n",
            " [0, 5, 10, 3.141592653589793]\n",
            "\n",
            "Cos values : \n",
            " [ 1.          0.28366219 -0.83907153 -1.        ]\n"
          ],
          "name": "stdout"
        }
      ]
    },
    {
      "cell_type": "code",
      "metadata": {
        "colab": {
          "base_uri": "https://localhost:8080/"
        },
        "id": "zT9e8ExJc5Ca",
        "outputId": "53e0acbc-a0f5-45a8-e617-a81eb2dffcac"
      },
      "source": [
        "#sin function\n",
        "\n",
        "my_array = [0, 5,10, np.pi] \n",
        "print (\"Input array : \\n\", my_array) \n",
        "  \n",
        "cos_Values = np.sin(my_array) \n",
        "print (\"\\nSin values : \\n\", cos_Values) "
      ],
      "execution_count": null,
      "outputs": [
        {
          "output_type": "stream",
          "text": [
            "Input array : \n",
            " [0, 5, 10, 3.141592653589793]\n",
            "\n",
            "Sin values : \n",
            " [ 0.00000000e+00 -9.58924275e-01 -5.44021111e-01  1.22464680e-16]\n"
          ],
          "name": "stdout"
        }
      ]
    },
    {
      "cell_type": "code",
      "metadata": {
        "colab": {
          "base_uri": "https://localhost:8080/"
        },
        "id": "vP1V_JcSc5Eg",
        "outputId": "e38ae359-610c-4043-b418-307e85c89683"
      },
      "source": [
        "#log function \n",
        "\n",
        "my_array = [0, 5,10, np.pi] \n",
        "print (\"Input array : \\n\", my_array) \n",
        "  \n",
        "log_Values = np.log(my_array) \n",
        "print (\"\\nTangent Hyperbolic values : \\n\", log_Values) "
      ],
      "execution_count": null,
      "outputs": [
        {
          "output_type": "stream",
          "text": [
            "Input array : \n",
            " [0, 5, 10, 3.141592653589793]\n",
            "\n",
            "Tangent Hyperbolic values : \n",
            " [      -inf 1.60943791 2.30258509 1.14472989]\n"
          ],
          "name": "stdout"
        },
        {
          "output_type": "stream",
          "text": [
            "/usr/local/lib/python3.6/dist-packages/ipykernel_launcher.py:6: RuntimeWarning: divide by zero encountered in log\n",
            "  \n"
          ],
          "name": "stderr"
        }
      ]
    },
    {
      "cell_type": "code",
      "metadata": {
        "colab": {
          "base_uri": "https://localhost:8080/"
        },
        "id": "mFg2B6eqGzTC",
        "outputId": "2313fcb2-bbad-429c-94ff-9381678e7664"
      },
      "source": [
        "# hypot() function\n",
        "\n",
        "leg1 = np.random.rand(10, 4) \n",
        "print (\"leg1 array : \\n\", leg1) \n",
        "  \n",
        "leg2 = np.ones((10, 4)) \n",
        "print (\"leg2 array : \\n\", leg2) \n",
        "  \n",
        "result = np.hypot(leg1, leg2) \n",
        "print(\"\\nHypotenuse is as follows :\") \n",
        "print(result) "
      ],
      "execution_count": null,
      "outputs": [
        {
          "output_type": "stream",
          "text": [
            "leg1 array : \n",
            " [[0.88203721 0.27930366 0.16185749 0.86936455]\n",
            " [0.48429516 0.87816211 0.96909013 0.46132688]\n",
            " [0.51235085 0.88594993 0.76470416 0.60173468]\n",
            " [0.44126417 0.23883184 0.11491727 0.84461112]\n",
            " [0.61771001 0.44619282 0.03688216 0.63389144]\n",
            " [0.69314984 0.3724264  0.59941746 0.78640845]\n",
            " [0.73183764 0.65675477 0.95866485 0.10480631]\n",
            " [0.1359114  0.80964372 0.32164259 0.83861284]\n",
            " [0.04951303 0.30212903 0.37192964 0.16918403]\n",
            " [0.66676621 0.1815079  0.86578519 0.98903496]]\n",
            "leg2 array : \n",
            " [[1. 1. 1. 1.]\n",
            " [1. 1. 1. 1.]\n",
            " [1. 1. 1. 1.]\n",
            " [1. 1. 1. 1.]\n",
            " [1. 1. 1. 1.]\n",
            " [1. 1. 1. 1.]\n",
            " [1. 1. 1. 1.]\n",
            " [1. 1. 1. 1.]\n",
            " [1. 1. 1. 1.]\n",
            " [1. 1. 1. 1.]]\n",
            "\n",
            "Hypotenuse is as follows :\n",
            "[[1.33341278 1.03827286 1.01301424 1.32506404]\n",
            " [1.11109937 1.33085262 1.39252852 1.1012822 ]\n",
            " [1.12361176 1.33600422 1.25887746 1.16708381]\n",
            " [1.09302977 1.02812482 1.00658133 1.30895681]\n",
            " [1.17540021 1.09502878 1.00067992 1.1839841 ]\n",
            " [1.21674019 1.06709954 1.16589077 1.27217855]\n",
            " [1.23918777 1.19638072 1.38529358 1.00547718]\n",
            " [1.00919369 1.28667127 1.05045417 1.30509444]\n",
            " [1.00122502 1.04464441 1.06692627 1.01421065]\n",
            " [1.20190565 1.01633908 1.32271841 1.40648148]]\n"
          ],
          "name": "stdout"
        }
      ]
    },
    {
      "cell_type": "code",
      "metadata": {
        "colab": {
          "base_uri": "https://localhost:8080/"
        },
        "id": "zKo4Wjh4GrFF",
        "outputId": "bd9e4098-5e5e-4e31-ca6b-0506429209fd"
      },
      "source": [
        "#degrees function\n",
        "  \n",
        "in_array = [0, 5, 10, np.pi] \n",
        "print (\"Radian values : \\n\", in_array) \n",
        "  \n",
        "degree_Values = np.degrees(in_array) \n",
        "print (\"\\nDegree values : \\n\", degree_Values) "
      ],
      "execution_count": null,
      "outputs": [
        {
          "output_type": "stream",
          "text": [
            "Radian values : \n",
            " [0, 5, 10, 3.141592653589793]\n",
            "\n",
            "Degree values : \n",
            " [  0.         286.47889757 572.95779513 180.        ]\n"
          ],
          "name": "stdout"
        }
      ]
    },
    {
      "cell_type": "code",
      "metadata": {
        "colab": {
          "base_uri": "https://localhost:8080/",
          "height": 279
        },
        "id": "erGXFallc5HX",
        "outputId": "6ac65e9a-3288-4560-a030-715e95c0a7b6"
      },
      "source": [
        "#relu function \n",
        "\n",
        "  \n",
        "x = np.linspace(-100, 100, 200) \n",
        "z = np.maximum(x, 0) \n",
        "  \n",
        "plt.plot(x, z) \n",
        "plt.xlabel(\"x\") \n",
        "plt.ylabel(\"Sigmoid(X)\") \n",
        "# print(\"X\",x,\"\\n\")\n",
        "# print(\"Z\",z)\n",
        "plt.show() "
      ],
      "execution_count": null,
      "outputs": [
        {
          "output_type": "display_data",
          "data": {
            "image/png": "[encoded data removed]",
            "text/plain": [
              "<Figure size 432x288 with 1 Axes>"
            ]
          },
          "metadata": {
            "tags": [],
            "needs_background": "light"
          }
        }
      ]
    },
    {
      "cell_type": "code",
      "metadata": {
        "colab": {
          "base_uri": "https://localhost:8080/"
        },
        "id": "vH1cjgk8GjwR",
        "outputId": "c2f5128a-f0b5-4298-87b3-59963761e33c"
      },
      "source": [
        "#arctan2 function\n",
        "  \n",
        "arr1 = [-1, +1, +1, -1] \n",
        "arr2 = [-1, -1, +1, +1] \n",
        "  \n",
        "ans = np.arctan2(arr2, arr1) * 180 / np.pi \n",
        "  \n",
        "print (\"x-coordinates : \", arr1) \n",
        "print (\"y-coordinates : \", arr2) \n",
        "  \n",
        "print (\"\\narctan2 values : \\n\", ans) "
      ],
      "execution_count": null,
      "outputs": [
        {
          "output_type": "stream",
          "text": [
            "x-coordinates :  [-1, 1, 1, -1]\n",
            "y-coordinates :  [-1, -1, 1, 1]\n",
            "\n",
            "arctan2 values : \n",
            " [-135.  -45.   45.  135.]\n"
          ],
          "name": "stdout"
        }
      ]
    },
    {
      "cell_type": "code",
      "metadata": {
        "colab": {
          "base_uri": "https://localhost:8080/"
        },
        "id": "1ECnYqxwdJvP",
        "outputId": "d4af55b5-0802-41cb-d79d-053e7be779b7"
      },
      "source": [
        "#image vector\n",
        "def image2vector(image):\n",
        "\tv = image.reshape(image.shape[0] * image.shape[1] * image.shape[2], 1)\n",
        "\treturn v\n",
        "image = np.random.rand(3,3,2)\n",
        "print(\"image\\n\",image,\"\\nimage2vector(image) = \" + str(image2vector(image)))"
      ],
      "execution_count": null,
      "outputs": [
        {
          "output_type": "stream",
          "text": [
            "image\n",
            " [[[0.61055574 0.73315426]\n",
            "  [0.19954421 0.39572225]\n",
            "  [0.83071991 0.46094018]]\n",
            "\n",
            " [[0.96424582 0.20823271]\n",
            "  [0.96172648 0.04480559]\n",
            "  [0.65336822 0.32664557]]\n",
            "\n",
            " [[0.36623679 0.39461305]\n",
            "  [0.02644394 0.20511447]\n",
            "  [0.75478558 0.9186444 ]]] \n",
            "image2vector(image) = [[0.61055574]\n",
            " [0.73315426]\n",
            " [0.19954421]\n",
            " [0.39572225]\n",
            " [0.83071991]\n",
            " [0.46094018]\n",
            " [0.96424582]\n",
            " [0.20823271]\n",
            " [0.96172648]\n",
            " [0.04480559]\n",
            " [0.65336822]\n",
            " [0.32664557]\n",
            " [0.36623679]\n",
            " [0.39461305]\n",
            " [0.02644394]\n",
            " [0.20511447]\n",
            " [0.75478558]\n",
            " [0.9186444 ]]\n"
          ],
          "name": "stdout"
        }
      ]
    },
    {
      "cell_type": "code",
      "metadata": {
        "colab": {
          "base_uri": "https://localhost:8080/"
        },
        "id": "_piyCVrydJyY",
        "outputId": "c5be423b-b839-4007-f5db-167a70f99a72"
      },
      "source": [
        "#softmax function\n",
        "\n",
        "def softmax(x):\n",
        "\tx_exp = np.exp(x)\n",
        "\tx_sum = np.sum(np.exp(x),axis = 1,keepdims = True)\n",
        "\ts = x_exp/x_sum\n",
        "\treturn s\n",
        "x = np.array([[1,5,6,0,0],[2,6,0,0,0]])\n",
        "x_exp = np.exp(x)\n",
        "x_sum = np.sum(np.exp(x),axis = 1,keepdims = True)\n",
        "s = x_exp/x_sum\n",
        "print(\"softmax(x) = \" + str(s))"
      ],
      "execution_count": null,
      "outputs": [
        {
          "output_type": "stream",
          "text": [
            "softmax(x) = [[0.00488407 0.26666145 0.72486097 0.00179675 0.00179675]\n",
            " [0.01785582 0.97489462 0.00241652 0.00241652 0.00241652]]\n"
          ],
          "name": "stdout"
        }
      ]
    },
    {
      "cell_type": "code",
      "metadata": {
        "colab": {
          "base_uri": "https://localhost:8080/"
        },
        "id": "DlJLRhxNHTsQ",
        "outputId": "d48cf16b-a9ea-4519-b9f6-e1626874770b"
      },
      "source": [
        "# fix() function \n",
        "  \n",
        "in_array = [7,3,5,1,9,6] \n",
        "print (\"Input array : \\n\", in_array) \n",
        "  \n",
        "fixoff_values = np.fix(in_array) \n",
        "print (\"\\nRounded values : \\n\", fixoff_values) \n"
      ],
      "execution_count": null,
      "outputs": [
        {
          "output_type": "stream",
          "text": [
            "Input array : \n",
            " [7, 3, 5, 1, 9, 6]\n",
            "\n",
            "Rounded values : \n",
            " [7. 3. 5. 1. 9. 6.]\n"
          ],
          "name": "stdout"
        }
      ]
    },
    {
      "cell_type": "code",
      "metadata": {
        "colab": {
          "base_uri": "https://localhost:8080/"
        },
        "id": "LTqtBYgUdJ0_",
        "outputId": "30bc248a-4ac2-474d-9c4d-cd751e0ea584"
      },
      "source": [
        "#Normalize function\n",
        "\n",
        "\t\n",
        "x =  np.array([[1,0],[3,2]])\n",
        "\n",
        "x_norm = np.linalg.norm(x,ord = 2,axis = 1,keepdims = True)\n",
        "x_normalized = x/x_norm\n",
        "print(\"normalizeRows(x) = \" + str(x_normalized))"
      ],
      "execution_count": null,
      "outputs": [
        {
          "output_type": "stream",
          "text": [
            "normalizeRows(x) = [[1.         0.        ]\n",
            " [0.83205029 0.5547002 ]]\n"
          ],
          "name": "stdout"
        }
      ]
    },
    {
      "cell_type": "code",
      "metadata": {
        "colab": {
          "base_uri": "https://localhost:8080/"
        },
        "id": "dMELa0CNdu6J",
        "outputId": "02a70524-78d1-458b-fa98-5bda3dc11d9e"
      },
      "source": [
        "#power function\n",
        "\n",
        "x =  np.array([[1,0],[3,2]])\n",
        "z= x**2\n",
        "\n",
        "\n",
        "print(\"x\\n\",x,\"\\n\")\n",
        "print(\"z\\n\",x,\"\\n\")"
      ],
      "execution_count": null,
      "outputs": [
        {
          "output_type": "stream",
          "text": [
            "x\n",
            " [[1 0]\n",
            " [3 2]] \n",
            "\n",
            "z\n",
            " [[1 0]\n",
            " [3 2]] \n",
            "\n"
          ],
          "name": "stdout"
        }
      ]
    },
    {
      "cell_type": "code",
      "metadata": {
        "colab": {
          "base_uri": "https://localhost:8080/",
          "height": 295
        },
        "id": "egoE4Y2rGRR9",
        "outputId": "9a6ea602-7007-4e27-9a48-de4a20b5bb2c"
      },
      "source": [
        "#sinh function\n",
        "\n",
        "in_array = np.linspace(1, np.pi**2, 15)  \n",
        "     \n",
        "out_array = []  \n",
        "     \n",
        "for i in range(len(in_array)):  \n",
        "    out_array.append(math.sinh(in_array[i]))  \n",
        "    i += 2\n",
        "   \n",
        "plt.plot(in_array, out_array, \"go-\")   \n",
        "plt.title(\"math.sinh()\")   \n",
        "plt.xlabel(\"X\")   \n",
        "plt.ylabel(\"Y\")   \n",
        "plt.show() "
      ],
      "execution_count": null,
      "outputs": [
        {
          "output_type": "display_data",
          "data": {
            "image/png": "[encoded data removed]",
            "text/plain": [
              "<Figure size 432x288 with 1 Axes>"
            ]
          },
          "metadata": {
            "tags": [],
            "needs_background": "light"
          }
        }
      ]
    },
    {
      "cell_type": "code",
      "metadata": {
        "id": "JTeAsVq7GRR_"
      },
      "source": [
        ""
      ],
      "execution_count": null,
      "outputs": []
    }
  ]
}